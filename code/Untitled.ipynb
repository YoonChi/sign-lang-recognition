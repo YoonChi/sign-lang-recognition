{
 "cells": [
  {
   "cell_type": "code",
   "execution_count": 7,
   "id": "2d48e1c7",
   "metadata": {},
   "outputs": [],
   "source": [
    "import cv2\n",
    "import os\n",
    "import time\n",
    "import uuid"
   ]
  },
  {
   "cell_type": "code",
   "execution_count": 8,
   "id": "ffefb6d5",
   "metadata": {},
   "outputs": [],
   "source": [
    "IMAGES_PATH = '/Users/anjalia/Desktop/AI_PROJECT-ASL/collectedImages'"
   ]
  },
  {
   "cell_type": "code",
   "execution_count": 9,
   "id": "d4b6fd95",
   "metadata": {},
   "outputs": [],
   "source": [
    "labels = ['A', 'B']\n",
    "number_imgs = 15"
   ]
  },
  {
   "cell_type": "code",
   "execution_count": 10,
   "id": "75781a0e",
   "metadata": {},
   "outputs": [
    {
     "name": "stdout",
     "output_type": "stream",
     "text": [
      "mkdir: /Users/anjalia/Desktop/AI_PROJECT-ASL/collectedImages//A: File exists\n",
      "Collecting images for A\n",
      "Image 0\n",
      "Image 1\n",
      "Image 2\n",
      "Image 3\n",
      "Image 4\n",
      "Image 5\n",
      "Image 6\n",
      "Image 7\n",
      "Image 8\n",
      "Image 9\n",
      "Image 10\n",
      "Image 11\n",
      "Image 12\n",
      "Image 13\n",
      "Image 14\n",
      "mkdir: /Users/anjalia/Desktop/AI_PROJECT-ASL/collectedImages//B: File exists\n",
      "Collecting images for B\n",
      "Image 0\n",
      "Image 1\n",
      "Image 2\n",
      "Image 3\n",
      "Image 4\n",
      "Image 5\n",
      "Image 6\n",
      "Image 7\n",
      "Image 8\n",
      "Image 9\n",
      "Image 10\n",
      "Image 11\n",
      "Image 12\n",
      "Image 13\n",
      "Image 14\n"
     ]
    }
   ],
   "source": [
    "for label in labels:\n",
    "    !mkdir {'/Users/anjalia/Desktop/AI_PROJECT-ASL/collectedImages//'+label}\n",
    "    cap = cv2.VideoCapture(0)\n",
    "    print('Collecting images for {}'.format(label))\n",
    "    time.sleep(5)\n",
    "    for imgnum in range(number_imgs):\n",
    "        ret,frame = cap.read()\n",
    "        imgname = os.path.join(IMAGES_PATH, label, label+'{}.jpg'.format(str(uuid.uuid1())))\n",
    "        cv2.imwrite(imgname, frame)\n",
    "        cv2.imshow('frame', frame)\n",
    "        time.sleep(2)\n",
    "        print('Image', imgnum)\n",
    "        \n",
    "        if cv2.waitKey(1) & 0xFF == ord('q'):\n",
    "            break\n",
    "    cap.release()"
   ]
  },
  {
   "cell_type": "code",
   "execution_count": null,
   "id": "be4a3ee8",
   "metadata": {},
   "outputs": [],
   "source": []
  }
 ],
 "metadata": {
  "kernelspec": {
   "display_name": "Python 3 (ipykernel)",
   "language": "python",
   "name": "python3"
  },
  "language_info": {
   "codemirror_mode": {
    "name": "ipython",
    "version": 3
   },
   "file_extension": ".py",
   "mimetype": "text/x-python",
   "name": "python",
   "nbconvert_exporter": "python",
   "pygments_lexer": "ipython3",
   "version": "3.9.7"
  }
 },
 "nbformat": 4,
 "nbformat_minor": 5
}
