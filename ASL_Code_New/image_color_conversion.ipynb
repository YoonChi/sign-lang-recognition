{
 "cells": [
  {
   "cell_type": "code",
   "execution_count": 1,
   "id": "b5e92744-3fcf-4ecd-9c48-fd4c05b2c063",
   "metadata": {},
   "outputs": [
    {
     "name": "stdout",
     "output_type": "stream",
     "text": [
      "del\n",
      "nothing\n",
      "space\n"
     ]
    }
   ],
   "source": [
    "import pandas as pd\n",
    "import numpy as np\n",
    "import tensorflow as tf\n",
    "import os \n",
    "import tensorflow_io as tfio\n",
    "import shutil\n",
    "from PIL import Image, ImageChops\n",
    "\n",
    "path = r'/Users/yooniiechi/Desktop/AI/AI_PROJECT-ASL/gesture/asl_alphabet_train2'\n",
    "\n",
    "\n",
    "folders = os.listdir(path)\n",
    "\n",
    "for index, folder in enumerate(folders):\n",
    "    print(folder)\n",
    "    if folder != \".DS_Store\":\n",
    "        joined_path = os.path.join(path, folder)\n",
    "        # print(joined_path)\n",
    "        \n",
    "        files = os.listdir(joined_path)\n",
    "        for index, file in enumerate(files):\n",
    "            # print(os.path.join(joined_path,file))\n",
    "            img = Image.open(os.path.join(joined_path,file)).convert('L')\n",
    "            inv_img = ImageChops.invert(img)\n",
    "            inv_img.save('inverted_grayscale_'+file)\n",
    "            # imgname  = 'inverted_grayscale_'+file'\n",
    "            \n",
    "            # src_path = '/Users/yooniiechi/Desktop/AI/AI_PROJECT-ASL/code/'+'inverted_grayscale_'+file\n",
    "            # dest_path = '/Users/yooniiechi/Desktop/AI/AI_PROJECT-ASL/gestures/inverted_kaggle_set/'+folder            \n",
    "            # shutil.move(src_path, dest)\n"
   ]
  },
  {
   "cell_type": "code",
   "execution_count": null,
   "id": "230908ae-285b-4cf0-b32a-8fafc6c6b6cf",
   "metadata": {},
   "outputs": [],
   "source": []
  }
 ],
 "metadata": {
  "kernelspec": {
   "display_name": "Python 3 (ipykernel)",
   "language": "python",
   "name": "python3"
  },
  "language_info": {
   "codemirror_mode": {
    "name": "ipython",
    "version": 3
   },
   "file_extension": ".py",
   "mimetype": "text/x-python",
   "name": "python",
   "nbconvert_exporter": "python",
   "pygments_lexer": "ipython3",
   "version": "3.10.4"
  }
 },
 "nbformat": 4,
 "nbformat_minor": 5
}
